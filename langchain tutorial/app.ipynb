{
 "cells": [
  {
   "cell_type": "code",
   "execution_count": null,
   "id": "70939ab4",
   "metadata": {},
   "outputs": [
    {
     "name": "stderr",
     "output_type": "stream",
     "text": [
      "USER_AGENT environment variable not set, consider setting it to identify your requests.\n"
     ]
    },
    {
     "name": "stdout",
     "output_type": "stream",
     "text": [
      "Enter API key for OpenAI:  ········\n"
     ]
    },
    {
     "name": "stdout",
     "output_type": "stream",
     "text": [
      "loaded documents with 42964 characters\n"
     ]
    }
   ],
   "source": [
    "import getpass\n",
    "import os\n",
    "from langchain.chat_models import init_chat_model\n",
    "from langchain_openai import OpenAIEmbeddings\n",
    "from langchain_core.vectorstores import InMemoryVectorStore\n",
    "import bs4\n",
    "from langchain_community.document_loaders import WebBaseLoader\n",
    "from langchain_text_splitters import RecursiveCharacterTextSplitter\n",
    "from langchain_huggingface import HuggingFaceEmbeddings\n",
    "\n",
    "\n",
    "os.environ[\"LANGSMITH_TRACING\"] = \"true\"\n",
    "# os.environ[\"LANGSMITH_API_KEY\"] = getpass.getpass()\n",
    "\n",
    "if not os.environ.get(\"GITHUB_ACCESS_TOKEN\"):\n",
    "  os.environ[\"GITHUB_ACESS_TOKEN\"] = getpass.getpass(\"Enter your github access token: \")\n",
    "\n",
    "llm = init_chat_model(\n",
    "  model=\"gpt-4.1\",\n",
    "  model_provider=\"openai\",\n",
    "  openai_api_base=\"https://models.github.ai/inference\",\n",
    "  openai_api_key=os.environ[\"GITHUB_ACCESS_TOKEN\"],\n",
    "  temperature=0.7\n",
    "  )\n",
    "\n",
    "# embeddings \n",
    "embeddings = HuggingFaceEmbeddings(model_name=\"sentence-transformers/all-MiniLM-L6-v2\")\n",
    "# embeddings = OpenAIEmbeddings(model=\"text-embedding-3-large\")\n",
    "\n",
    "# in memory storage (more like database)\n",
    "vector_store = InMemoryVectorStore(embeddings) # stores our embeddings in memory: for faster searches and retrievals\n",
    "\n",
    "# loading documents\n",
    "loader = WebBaseLoader(\n",
    "  web_path=(\"https://lilianweng.github.io/posts/2023-06-23-agent/\",),\n",
    "  bs_kwargs=dict(\n",
    "    parse_only=bs4.SoupStrainer(class_=(\"post-content\", \"post-title\", \"post-loader\"))\n",
    "  ),\n",
    ")\n",
    "\n",
    "docs = loader.load()\n",
    "\n",
    "print(f\"loaded documents with {len(docs[0].page_content)} characters\")\n"
   ]
  },
  {
   "cell_type": "code",
   "execution_count": 2,
   "id": "aed90d54-e6cf-48fe-adf3-c8e95aee9093",
   "metadata": {},
   "outputs": [
    {
     "name": "stdout",
     "output_type": "stream",
     "text": [
      "document split into 63 chunks\n"
     ]
    }
   ],
   "source": [
    "# splitting the loaded document into chunks\n",
    "text_splitter = RecursiveCharacterTextSplitter(\n",
    "    chunk_size = 1000,\n",
    "    chunk_overlap=200,\n",
    ")\n",
    "all_splits = text_splitter.split_documents(docs)\n",
    "print(f\"document split into {len(all_splits)} chunks\")"
   ]
  },
  {
   "cell_type": "code",
   "execution_count": null,
   "id": "b656ebf7-0e07-4171-b042-488ef12ae91f",
   "metadata": {},
   "outputs": [],
   "source": [
    "# storing the chunks\n",
    "# the document chunks have now been stored as searchable vetctors\n",
    "document_ids = vector_store.add_documents(documents=all_splits)\n",
    "print(f\"stored {len(document_ids)} ducument chunks\") "
   ]
  },
  {
   "cell_type": "code",
   "execution_count": null,
   "id": "65342da2",
   "metadata": {},
   "outputs": [],
   "source": [
    "# retrieval and generation \n",
    "\n",
    "#setup the application structure\n",
    "\n",
    "from langchain import hub\n",
    "from langchain_core.documents import Document\n",
    "from langgraph.graph import START, StateGraph\n",
    "from typing_extensions import List, TypedDict\n",
    "\n",
    "# get premade prompt for RAG\n",
    "prompt = hub.pull(\"rlm/rag-prompt\")\n",
    "\n",
    "# define what information flows through your app\n",
    "class State (TypedDict):\n",
    "    question: str # user's question\n",
    "    context: List[Document] # retrieved documents\n",
    "    answer = str # generted answer"
   ]
  },
  {
   "cell_type": "code",
   "execution_count": null,
   "id": "18c29d78",
   "metadata": {},
   "outputs": [],
   "source": [
    "# retrieve relevant documents\n",
    "def retrieve(state: State):\n",
    "    retrieved_docs = vector_store.similarity_search(state[\"question\"])\n",
    "\n",
    "    return {\"context\": retrieved_docs}"
   ]
  },
  {
   "cell_type": "code",
   "execution_count": null,
   "id": "2adb5456",
   "metadata": {},
   "outputs": [],
   "source": [
    "def generate(state: State):\n",
    "    \"generate answers with the retrieved documents\"\n",
    "    \n",
    "    #combine the retrived documents into one\n",
    "    docs_content = \"\\n\\n\".join(doc.page_content for doc in state[\"context\"])\n",
    "\n",
    "    # create prompt with question and context \n",
    "    messages = prompt.invoke({\n",
    "        \"question\": state[\"question\"],\n",
    "        \"context\": docs_content\n",
    "    })\n",
    "\n",
    "    # get response from LLM\n",
    "    response = llm.invoke(messages)\n",
    "\n",
    "    return {\"answer\": response.content}"
   ]
  },
  {
   "cell_type": "code",
   "execution_count": null,
   "id": "e4fc6c98",
   "metadata": {},
   "outputs": [],
   "source": [
    "\"\"\"connect everything together\"\"\"\n",
    "\n",
    "graph_builder = StateGraph(State).add_sequence([retrieve, generate])\n",
    "graph_builder.add_edge(START, \"retrieve\")\n",
    "graph = graph_builder.compile()"
   ]
  },
  {
   "cell_type": "code",
   "execution_count": null,
   "id": "cafccda1-93e1-40bc-ae23-125bdccb0f57",
   "metadata": {},
   "outputs": [],
   "source": [
    "# test the rag system\n",
    "\n",
    "result = graph.invoke({\"question\": \"what is self reflection\"})\n",
    "print(\"answer: \")\n",
    "print(result[\"answer\"])\n",
    "print(\"\\nSOURCE DOCUMENTS: \")\n",
    "for i, doc in enumerate(result[\"context\"]):\n",
    "    print(f\"{i + 1}. {doc.page_content[:200]}...\")"
   ]
  }
 ],
 "metadata": {
  "kernelspec": {
   "display_name": "Python 3",
   "language": "python",
   "name": "python3"
  },
  "language_info": {
   "codemirror_mode": {
    "name": "ipython",
    "version": 3
   },
   "file_extension": ".py",
   "mimetype": "text/x-python",
   "name": "python",
   "nbconvert_exporter": "python",
   "pygments_lexer": "ipython3",
   "version": "3.13.1"
  }
 },
 "nbformat": 4,
 "nbformat_minor": 5
}
