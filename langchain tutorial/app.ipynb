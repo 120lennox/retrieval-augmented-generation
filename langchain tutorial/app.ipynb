{
 "cells": [
  {
   "cell_type": "code",
   "execution_count": 2,
   "id": "70939ab4",
   "metadata": {},
   "outputs": [
    {
     "name": "stdin",
     "output_type": "stream",
     "text": [
      "Enter your github access token:  ········\n"
     ]
    },
    {
     "name": "stderr",
     "output_type": "stream",
     "text": [
      "C:\\Users\\lenno\\AppData\\Local\\Programs\\Python\\Python313\\Lib\\site-packages\\tqdm\\auto.py:21: TqdmWarning: IProgress not found. Please update jupyter and ipywidgets. See https://ipywidgets.readthedocs.io/en/stable/user_install.html\n",
      "  from .autonotebook import tqdm as notebook_tqdm\n",
      "C:\\Users\\lenno\\AppData\\Local\\Programs\\Python\\Python313\\Lib\\site-packages\\huggingface_hub\\file_download.py:143: UserWarning: `huggingface_hub` cache-system uses symlinks by default to efficiently store duplicated files but your machine does not support them in C:\\Users\\lenno\\.cache\\huggingface\\hub\\models--sentence-transformers--all-MiniLM-L6-v2. Caching files will still work but in a degraded version that might require more space on your disk. This warning can be disabled by setting the `HF_HUB_DISABLE_SYMLINKS_WARNING` environment variable. For more details, see https://huggingface.co/docs/huggingface_hub/how-to-cache#limitations.\n",
      "To support symlinks on Windows, you either need to activate Developer Mode or to run Python as an administrator. In order to activate developer mode, see this article: https://docs.microsoft.com/en-us/windows/apps/get-started/enable-your-device-for-development\n",
      "  warnings.warn(message)\n",
      "Xet Storage is enabled for this repo, but the 'hf_xet' package is not installed. Falling back to regular HTTP download. For better performance, install the package with: `pip install huggingface_hub[hf_xet]` or `pip install hf_xet`\n"
     ]
    },
    {
     "name": "stdout",
     "output_type": "stream",
     "text": [
      "loaded documents with 42964 characters\n"
     ]
    },
    {
     "name": "stdout",
     "output_type": "stream",
     "text": [
      "loaded documents with 42964 characters\n"
     ]
    }
   ],
   "source": [
    "import getpass\n",
    "import os\n",
    "from langchain.chat_models import init_chat_model\n",
    "from langchain_openai import OpenAIEmbeddings\n",
    "from langchain_core.vectorstores import InMemoryVectorStore\n",
    "import bs4\n",
    "from langchain_community.document_loaders import WebBaseLoader\n",
    "from langchain_text_splitters import RecursiveCharacterTextSplitter\n",
    "from langchain_huggingface import HuggingFaceEmbeddings\n",
    "\n",
    "\n",
    "os.environ[\"LANGSMITH_TRACING\"] = \"true\"\n",
    "# os.environ[\"LANGSMITH_API_KEY\"] = getpass.getpass()\n",
    "\n",
    "if not os.environ.get(\"GITHUB_ACCESS_TOKEN\"):\n",
    "  os.environ[\"GITHUB_ACCESS_TOKEN\"] = getpass.getpass(\"Enter your github access token: \")\n",
    "\n",
    "llm = init_chat_model(\n",
    "  model=\"gpt-4.1\",\n",
    "  model_provider=\"openai\",\n",
    "  openai_api_base=\"https://models.github.ai/inference\",\n",
    "  openai_api_key=os.environ[\"GITHUB_ACCESS_TOKEN\"],\n",
    "  temperature=0.7\n",
    "  )\n",
    "\n",
    "# embeddings \n",
    "embeddings = HuggingFaceEmbeddings(model_name=\"sentence-transformers/all-MiniLM-L6-v2\")\n",
    "# embeddings = OpenAIEmbeddings(model=\"text-embedding-3-large\")\n",
    "\n",
    "# in memory storage (more like database)\n",
    "vector_store = InMemoryVectorStore(embeddings) # stores our embeddings in memory: for faster searches and retrievals\n",
    "\n",
    "# loading documents\n",
    "loader = WebBaseLoader(\n",
    "  web_path=(\"https://lilianweng.github.io/posts/2023-06-23-agent/\",),\n",
    "  bs_kwargs=dict(\n",
    "    parse_only=bs4.SoupStrainer(class_=(\"post-content\", \"post-title\", \"post-loader\"))\n",
    "  ),\n",
    ")\n",
    "\n",
    "docs = loader.load()\n",
    "\n",
    "print(f\"loaded documents with {len(docs[0].page_content)} characters\")\n"
   ]
  },
  {
   "cell_type": "code",
   "execution_count": 3,
   "id": "aed90d54-e6cf-48fe-adf3-c8e95aee9093",
   "metadata": {},
   "outputs": [
    {
     "name": "stdout",
     "output_type": "stream",
     "text": [
      "document split into 63 chunks\n"
     ]
    }
   ],
   "source": [
    "# splitting the loaded document into chunks\n",
    "text_splitter = RecursiveCharacterTextSplitter(\n",
    "    chunk_size = 1000,\n",
    "    chunk_overlap=200,\n",
    ")\n",
    "all_splits = text_splitter.split_documents(docs)\n",
    "print(f\"document split into {len(all_splits)} chunks\")"
   ]
  },
  {
   "cell_type": "code",
   "execution_count": 4,
   "id": "b656ebf7-0e07-4171-b042-488ef12ae91f",
   "metadata": {},
   "outputs": [
    {
     "name": "stdout",
     "output_type": "stream",
     "text": [
      "stored 63 ducument chunks\n"
     ]
    }
   ],
   "source": [
    "# storing the chunks\n",
    "# the document chunks have now been stored as searchable vetctors\n",
    "document_ids = vector_store.add_documents(documents=all_splits)\n",
    "print(f\"stored {len(document_ids)} ducument chunks\") "
   ]
  },
  {
   "cell_type": "code",
   "execution_count": 5,
   "id": "65342da2",
   "metadata": {},
   "outputs": [
    {
     "name": "stderr",
     "output_type": "stream",
     "text": [
      "C:\\Users\\lenno\\AppData\\Local\\Programs\\Python\\Python313\\Lib\\site-packages\\langsmith\\client.py:272: LangSmithMissingAPIKeyWarning: API key must be provided when using hosted LangSmith API\n",
      "  warnings.warn(\n"
     ]
    }
   ],
   "source": [
    "# retrieval and generation \n",
    "\n",
    "#setup the application structure\n",
    "\n",
    "from langchain import hub\n",
    "from langchain_core.documents import Document\n",
    "from langgraph.graph import START, StateGraph\n",
    "from typing_extensions import List, TypedDict\n",
    "\n",
    "# get premade prompt for RAG\n",
    "prompt = hub.pull(\"rlm/rag-prompt\")\n",
    "\n",
    "# define what information flows through your app\n",
    "class State (TypedDict):\n",
    "    question: str # user's question\n",
    "    context: List[Document] # retrieved documents\n",
    "    answer = str # generted answer"
   ]
  },
  {
   "cell_type": "code",
   "execution_count": 6,
   "id": "18c29d78",
   "metadata": {},
   "outputs": [],
   "source": [
    "# retrieve relevant documents\n",
    "def retrieve(state: State):\n",
    "    retrieved_docs = vector_store.similarity_search(state[\"question\"])\n",
    "\n",
    "    return {\"context\": retrieved_docs}"
   ]
  },
  {
   "cell_type": "code",
   "execution_count": 7,
   "id": "2adb5456",
   "metadata": {},
   "outputs": [],
   "source": [
    "def generate(state: State):\n",
    "    \"generate answers with the retrieved documents\"\n",
    "    \n",
    "    #combine the retrived documents into one\n",
    "    docs_content = \"\\n\\n\".join(doc.page_content for doc in state[\"context\"])\n",
    "\n",
    "    # create prompt with question and context \n",
    "    messages = prompt.invoke({\n",
    "        \"question\": state[\"question\"],\n",
    "        \"context\": docs_content\n",
    "    })\n",
    "\n",
    "    # get response from LLM\n",
    "    response = llm.invoke(messages)\n",
    "\n",
    "    return {\"answer\": response.content}"
   ]
  },
  {
   "cell_type": "code",
   "execution_count": 8,
   "id": "e4fc6c98",
   "metadata": {},
   "outputs": [],
   "source": [
    "\"\"\"connect everything together\"\"\"\n",
    "\n",
    "graph_builder = StateGraph(State).add_sequence([retrieve, generate])\n",
    "graph_builder.add_edge(START, \"retrieve\")\n",
    "graph = graph_builder.compile()"
   ]
  },
  {
   "cell_type": "code",
   "execution_count": 9,
   "id": "cafccda1-93e1-40bc-ae23-125bdccb0f57",
   "metadata": {},
   "outputs": [
    {
     "name": "stderr",
     "output_type": "stream",
     "text": [
      "C:\\Users\\lenno\\AppData\\Local\\Programs\\Python\\Python313\\Lib\\site-packages\\langsmith\\client.py:272: LangSmithMissingAPIKeyWarning: API key must be provided when using hosted LangSmith API\n",
      "  warnings.warn(\n",
      "Failed to multipart ingest runs: langsmith.utils.LangSmithAuthError: Authentication failed for https://api.smith.langchain.com/runs/multipart. HTTPError('401 Client Error: Unauthorized for url: https://api.smith.langchain.com/runs/multipart', '{\"error\":\"Unauthorized\"}\\n')trace=a4cb5a8f-0d6c-474f-bdca-e6d7cac29fce,id=a4cb5a8f-0d6c-474f-bdca-e6d7cac29fce; trace=a4cb5a8f-0d6c-474f-bdca-e6d7cac29fce,id=e7ee3554-5ff7-439b-af64-490a243de8f7; trace=a4cb5a8f-0d6c-474f-bdca-e6d7cac29fce,id=53d5c67f-5119-4725-9e7f-e8fd48c4cf17; trace=a4cb5a8f-0d6c-474f-bdca-e6d7cac29fce,id=4f0fe5b1-a2b8-4df7-96b8-1a3f20e28796; trace=a4cb5a8f-0d6c-474f-bdca-e6d7cac29fce,id=5e5e95db-e05e-4496-a06a-67589a3407d1\n"
     ]
    },
    {
     "name": "stdout",
     "output_type": "stream",
     "text": [
      "answer: \n"
     ]
    },
    {
     "ename": "KeyError",
     "evalue": "'answer'",
     "output_type": "error",
     "traceback": [
      "\u001b[31m---------------------------------------------------------------------------\u001b[39m",
      "\u001b[31mKeyError\u001b[39m                                  Traceback (most recent call last)",
      "\u001b[36mCell\u001b[39m\u001b[36m \u001b[39m\u001b[32mIn[9]\u001b[39m\u001b[32m, line 5\u001b[39m\n\u001b[32m      3\u001b[39m result = graph.invoke({\u001b[33m\"\u001b[39m\u001b[33mquestion\u001b[39m\u001b[33m\"\u001b[39m: \u001b[33m\"\u001b[39m\u001b[33mwhat is self reflection\u001b[39m\u001b[33m\"\u001b[39m})\n\u001b[32m      4\u001b[39m \u001b[38;5;28mprint\u001b[39m(\u001b[33m\"\u001b[39m\u001b[33manswer: \u001b[39m\u001b[33m\"\u001b[39m)\n\u001b[32m----> \u001b[39m\u001b[32m5\u001b[39m \u001b[38;5;28mprint\u001b[39m(\u001b[43mresult\u001b[49m\u001b[43m[\u001b[49m\u001b[33;43m\"\u001b[39;49m\u001b[33;43manswer\u001b[39;49m\u001b[33;43m\"\u001b[39;49m\u001b[43m]\u001b[49m)\n\u001b[32m      6\u001b[39m \u001b[38;5;28mprint\u001b[39m(\u001b[33m\"\u001b[39m\u001b[38;5;130;01m\\n\u001b[39;00m\u001b[33mSOURCE DOCUMENTS: \u001b[39m\u001b[33m\"\u001b[39m)\n\u001b[32m      7\u001b[39m \u001b[38;5;28;01mfor\u001b[39;00m i, doc \u001b[38;5;129;01min\u001b[39;00m \u001b[38;5;28menumerate\u001b[39m(result[\u001b[33m\"\u001b[39m\u001b[33mcontext\u001b[39m\u001b[33m\"\u001b[39m]):\n",
      "\u001b[31mKeyError\u001b[39m: 'answer'"
     ]
    },
    {
     "name": "stderr",
     "output_type": "stream",
     "text": [
      "Failed to send compressed multipart ingest: langsmith.utils.LangSmithAuthError: Authentication failed for https://api.smith.langchain.com/runs/multipart. HTTPError('401 Client Error: Unauthorized for url: https://api.smith.langchain.com/runs/multipart', '{\"error\":\"Unauthorized\"}\\n')trace=a4cb5a8f-0d6c-474f-bdca-e6d7cac29fce,id=5e5e95db-e05e-4496-a06a-67589a3407d1; trace=a4cb5a8f-0d6c-474f-bdca-e6d7cac29fce,id=53d5c67f-5119-4725-9e7f-e8fd48c4cf17; trace=a4cb5a8f-0d6c-474f-bdca-e6d7cac29fce,id=a4cb5a8f-0d6c-474f-bdca-e6d7cac29fce\n"
     ]
    }
   ],
   "source": [
    "# test the rag system\n",
    "\n",
    "result = graph.invoke({\"question\": \"what is self reflection\"})\n",
    "print(\"answer: \")\n",
    "print(result[\"answer\"])\n",
    "print(\"\\nSOURCE DOCUMENTS: \")\n",
    "for i, doc in enumerate(result[\"context\"]):\n",
    "    print(f\"{i + 1}. {doc.page_content[:200]}...\")"
   ]
  }
 ],
 "metadata": {
  "kernelspec": {
   "display_name": "Python 3 (ipykernel)",
   "language": "python",
   "name": "python3"
  },
  "language_info": {
   "codemirror_mode": {
    "name": "ipython",
    "version": 3
   },
   "file_extension": ".py",
   "mimetype": "text/x-python",
   "name": "python",
   "nbconvert_exporter": "python",
   "pygments_lexer": "ipython3",
   "version": "3.13.1"
  }
 },
 "nbformat": 4,
 "nbformat_minor": 5
}
